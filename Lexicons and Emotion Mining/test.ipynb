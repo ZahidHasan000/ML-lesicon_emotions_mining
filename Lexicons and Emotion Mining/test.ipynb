{
 "cells": [
  {
   "cell_type": "code",
   "execution_count": null,
   "metadata": {},
   "outputs": [],
   "source": [
    "!pip install nrclex "
   ]
  },
  {
   "cell_type": "code",
   "execution_count": null,
   "metadata": {},
   "outputs": [],
   "source": [
    "from nrclex import NRCLex\n",
    "\n",
    "# assign list of strings\n",
    "text = [\"hate\", \"lovely\", \"person\", \"worst\"]\n",
    "\n",
    "# Iterate through list\n",
    "for i in range(len(text)):\n",
    "    \n",
    "    # create object\n",
    "    emotion = NRCLex(text[i])\n",
    "    \n",
    "    # classify emotion\n",
    "    print(\"\\n\\n\", text[i], ': ', emotion.top_emotions)"
   ]
  }
 ],
 "metadata": {
  "language_info": {
   "name": "python"
  },
  "orig_nbformat": 4
 },
 "nbformat": 4,
 "nbformat_minor": 2
}
